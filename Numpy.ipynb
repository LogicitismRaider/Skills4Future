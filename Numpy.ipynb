{
 "cells": [
  {
   "cell_type": "code",
   "execution_count": 1,
   "metadata": {},
   "outputs": [
    {
     "name": "stdout",
     "output_type": "stream",
     "text": [
      "Requirement already satisfied: numpy in c:\\programdata\\anaconda3\\lib\\site-packages (1.16.4)\n",
      "Note: you may need to restart the kernel to use updated packages.\n"
     ]
    }
   ],
   "source": [
    "pip install numpy"
   ]
  },
  {
   "cell_type": "code",
   "execution_count": 2,
   "metadata": {},
   "outputs": [],
   "source": [
    "import numpy as np"
   ]
  },
  {
   "cell_type": "code",
   "execution_count": 3,
   "metadata": {},
   "outputs": [
    {
     "name": "stdout",
     "output_type": "stream",
     "text": [
      "Energy Consumption(in MWh) for Different Renewable Sources:\n",
      "[1200 3400 2900 1900 2500]\n"
     ]
    }
   ],
   "source": [
    "energy_consumption = np.array([1200,3400,2900,1900,2500])\n",
    "print(\"Energy Consumption(in MWh) for Different Renewable Sources:\")\n",
    "print(energy_consumption)"
   ]
  },
  {
   "cell_type": "code",
   "execution_count": 4,
   "metadata": {},
   "outputs": [
    {
     "name": "stdout",
     "output_type": "stream",
     "text": [
      "\n",
      "Total Energy Consumption:11900 MWh\n"
     ]
    }
   ],
   "source": [
    "total_consumption = np.sum(energy_consumption)\n",
    "print(f\"\\nTotal Energy Consumption:{total_consumption} MWh\")"
   ]
  },
  {
   "cell_type": "code",
   "execution_count": 5,
   "metadata": {},
   "outputs": [
    {
     "name": "stdout",
     "output_type": "stream",
     "text": [
      "\n",
      "Mean Energy Consumption:2380.00 MWh\n"
     ]
    }
   ],
   "source": [
    "mean_consumption = np.mean(energy_consumption)\n",
    "print(f\"\\nMean Energy Consumption:{mean_consumption:.2f} MWh\")"
   ]
  },
  {
   "cell_type": "code",
   "execution_count": 6,
   "metadata": {},
   "outputs": [
    {
     "name": "stdout",
     "output_type": "stream",
     "text": [
      "\n",
      "Standard DeviationOf Energy Consumption:767.85 MWh\n"
     ]
    }
   ],
   "source": [
    "std_deviation = np.std(energy_consumption)\n",
    "print(f\"\\nStandard DeviationOf Energy Consumption:{std_deviation:.2f} MWh\")"
   ]
  },
  {
   "cell_type": "code",
   "execution_count": 8,
   "metadata": {},
   "outputs": [
    {
     "name": "stdout",
     "output_type": "stream",
     "text": [
      "\n",
      "Reshaped Energy Consumtion Array (5,1):\n",
      "[[1200]\n",
      " [3400]\n",
      " [2900]\n",
      " [1900]\n",
      " [2500]]\n"
     ]
    }
   ],
   "source": [
    "reshaped_array = energy_consumption.reshape((5,1))\n",
    "print(\"\\nReshaped Energy Consumtion Array (5,1):\")\n",
    "print(reshaped_array)"
   ]
  },
  {
   "cell_type": "code",
   "execution_count": null,
   "metadata": {},
   "outputs": [],
   "source": []
  }
 ],
 "metadata": {
  "kernelspec": {
   "display_name": "Python 3",
   "language": "python",
   "name": "python3"
  },
  "language_info": {
   "codemirror_mode": {
    "name": "ipython",
    "version": 3
   },
   "file_extension": ".py",
   "mimetype": "text/x-python",
   "name": "python",
   "nbconvert_exporter": "python",
   "pygments_lexer": "ipython3",
   "version": "3.7.3"
  }
 },
 "nbformat": 4,
 "nbformat_minor": 2
}
