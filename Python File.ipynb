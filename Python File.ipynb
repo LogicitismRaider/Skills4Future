{
 "cells": [
  {
   "cell_type": "code",
   "execution_count": 1,
   "metadata": {},
   "outputs": [
    {
     "name": "stdout",
     "output_type": "stream",
     "text": [
      "Cities with high temperature(>25c):\n",
      "City B - 30C\n",
      "City E - 28C\n"
     ]
    }
   ],
   "source": [
    "climate_data = [\n",
    "    {\"city\":\"City A\",\"temperature\":25,\"carbon_footprint\":500},\n",
    "    {\"city\":\"City B\",\"temperature\":30,\"carbon_footprint\":350},\n",
    "    {\"city\":\"City C\",\"temperature\":22,\"carbon_footprint\":600},\n",
    "    {\"city\":\"City D\",\"temperature\":15,\"carbon_footprint\":200},\n",
    "    {\"city\":\"City E\",\"temperature\":28,\"carbon_footprint\":450},\n",
    "]\n",
    "\n",
    "high_temp_threshold = 26\n",
    "\n",
    "high_temp_cities = [city for city in climate_data if city[\"temperature\"] > high_temp_threshold]\n",
    "\n",
    "print(\"Cities with high temperature(>25c):\")\n",
    "for city in high_temp_cities:\n",
    "    print(f\"{city['city']} - {city['temperature']}C\")"
   ]
  },
  {
   "cell_type": "code",
   "execution_count": 5,
   "metadata": {},
   "outputs": [
    {
     "name": "stdout",
     "output_type": "stream",
     "text": [
      "\n",
      "Sustainable Cities (Carbon Footprint < 400 kg CO2):\n",
      "City B - 350 kg CO2\n",
      "City D - 200 kg CO2\n"
     ]
    }
   ],
   "source": [
    "sustainability_threshold = 400\n",
    "\n",
    "sustainability_cities = list(filter(lambda city: city[\"carbon_footprint\"] < sustainability_threshold, climate_data))\n",
    "\n",
    "print(\"\\nSustainable Cities (Carbon Footprint < 400 kg CO2):\")\n",
    "for city in sustainability_cities:\n",
    "    print(f\"{city['city']} - {city['carbon_footprint']} kg CO2\")"
   ]
  },
  {
   "cell_type": "code",
   "execution_count": 7,
   "metadata": {},
   "outputs": [
    {
     "name": "stdout",
     "output_type": "stream",
     "text": [
      "\n",
      "City with the highest Carbon Footprint:\n",
      "City C - 600 kg CO2\n"
     ]
    }
   ],
   "source": [
    "highest_footprint_city = max(climate_data, key=lambda\n",
    "                            city: city[\"carbon_footprint\"])\n",
    "\n",
    "print(f\"\\nCity with the highest Carbon Footprint:\")\n",
    "print(f\"{highest_footprint_city['city']} - {highest_footprint_city['carbon_footprint']} kg CO2\")"
   ]
  },
  {
   "cell_type": "code",
   "execution_count": 8,
   "metadata": {},
   "outputs": [
    {
     "name": "stdout",
     "output_type": "stream",
     "text": [
      "\n",
      "Average Carbon Footprint:100.000000 kg CO2\n",
      "\n",
      "Average Carbon Footprint:170.000000 kg CO2\n",
      "\n",
      "Average Carbon Footprint:290.000000 kg CO2\n",
      "\n",
      "Average Carbon Footprint:330.000000 kg CO2\n",
      "\n",
      "Average Carbon Footprint:420.000000 kg CO2\n"
     ]
    }
   ],
   "source": [
    "total_carbon = 0\n",
    "for city in climate_data:\n",
    "    total_carbon += city[\"carbon_footprint\"]\n",
    "    average_carbon_footprint = total_carbon / len(climate_data)\n",
    "    print(f\"\\nAverage Carbon Footprint:{average_carbon_footprint:2f} kg CO2\")"
   ]
  },
  {
   "cell_type": "code",
   "execution_count": null,
   "metadata": {},
   "outputs": [],
   "source": []
  }
 ],
 "metadata": {
  "kernelspec": {
   "display_name": "Python 3",
   "language": "python",
   "name": "python3"
  },
  "language_info": {
   "codemirror_mode": {
    "name": "ipython",
    "version": 3
   },
   "file_extension": ".py",
   "mimetype": "text/x-python",
   "name": "python",
   "nbconvert_exporter": "python",
   "pygments_lexer": "ipython3",
   "version": "3.7.3"
  }
 },
 "nbformat": 4,
 "nbformat_minor": 2
}
