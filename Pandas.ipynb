{
 "cells": [
  {
   "cell_type": "code",
   "execution_count": 1,
   "metadata": {},
   "outputs": [
    {
     "name": "stdout",
     "output_type": "stream",
     "text": [
      "Requirement already satisfied: pandas in c:\\programdata\\anaconda3\\lib\\site-packages (0.24.2)\n",
      "Requirement already satisfied: pytz>=2011k in c:\\programdata\\anaconda3\\lib\\site-packages (from pandas) (2019.1)\n",
      "Requirement already satisfied: python-dateutil>=2.5.0 in c:\\programdata\\anaconda3\\lib\\site-packages (from pandas) (2.8.0)\n",
      "Requirement already satisfied: numpy>=1.12.0 in c:\\programdata\\anaconda3\\lib\\site-packages (from pandas) (1.16.4)\n",
      "Requirement already satisfied: six>=1.5 in c:\\programdata\\anaconda3\\lib\\site-packages (from python-dateutil>=2.5.0->pandas) (1.12.0)\n",
      "Note: you may need to restart the kernel to use updated packages.\n"
     ]
    }
   ],
   "source": [
    "pip install pandas"
   ]
  },
  {
   "cell_type": "code",
   "execution_count": 2,
   "metadata": {},
   "outputs": [],
   "source": [
    "import pandas as pd"
   ]
  },
  {
   "cell_type": "code",
   "execution_count": 3,
   "metadata": {},
   "outputs": [
    {
     "name": "stdout",
     "output_type": "stream",
     "text": [
      "Renewable Energy Sources:\n",
      "0         Solar\n",
      "1          Wind\n",
      "2    Hydropower\n",
      "3    Geothermal\n",
      "4       Biomass\n",
      "dtype: object\n"
     ]
    }
   ],
   "source": [
    "renewable_sources = [\"Solar\",\"Wind\",\"Hydropower\",\"Geothermal\",\"Biomass\"]\n",
    "\n",
    "data = {\n",
    "    \"Project\":[\"Solar Farm A\",\"Wind Turbine X\",\"Hydropower Y\",\"Solar Roof Z\",\"Geothermal Plant P\"],\n",
    "    \"Technology\":[\"Solar\",\"Wind\",\"Hydropower\",\"Solar\",\"Geothermal\"],\n",
    "    \"Capacity (MW)\":[150,300,200,50,100],\n",
    "    \"Cost (Millon $)\":[200,400,350,100,250],\n",
    "    \"Location\":[\"California\",\"Texas\",\"Washington\",\"Nevada\",\"Jdaho\"],\n",
    "    \"Completion Year\":[2023,2024,2022,2025,2023],\n",
    "}\n",
    "\n",
    "Renewable_Series = pd.Series(renewable_sources)\n",
    "\n",
    "print(\"Renewable Energy Sources:\")\n",
    "print(Renewable_Series)"
   ]
  },
  {
   "cell_type": "code",
   "execution_count": 4,
   "metadata": {},
   "outputs": [
    {
     "name": "stdout",
     "output_type": "stream",
     "text": [
      "\n",
      "Green Technology Projects Dataframe:\n",
      "              Project  Technology  Capacity (MW)  Cost (Millon $)    Location  \\\n",
      "0        Solar Farm A       Solar            150              200  California   \n",
      "1      Wind Turbine X        Wind            300              400       Texas   \n",
      "2        Hydropower Y  Hydropower            200              350  Washington   \n",
      "3        Solar Roof Z       Solar             50              100      Nevada   \n",
      "4  Geothermal Plant P  Geothermal            100              250       Jdaho   \n",
      "\n",
      "   Completion Year  \n",
      "0             2023  \n",
      "1             2024  \n",
      "2             2022  \n",
      "3             2025  \n",
      "4             2023  \n"
     ]
    }
   ],
   "source": [
    "projects_df = pd.DataFrame(data)\n",
    "print(\"\\nGreen Technology Projects Dataframe:\")\n",
    "print(projects_df)"
   ]
  },
  {
   "cell_type": "code",
   "execution_count": 5,
   "metadata": {},
   "outputs": [
    {
     "name": "stdout",
     "output_type": "stream",
     "text": [
      "\n",
      "List Of Projects:\n",
      "0          Solar Farm A\n",
      "1        Wind Turbine X\n",
      "2          Hydropower Y\n",
      "3          Solar Roof Z\n",
      "4    Geothermal Plant P\n",
      "Name: Project, dtype: object\n"
     ]
    }
   ],
   "source": [
    "print(\"\\nList Of Projects:\")\n",
    "print(projects_df[\"Project\"])"
   ]
  },
  {
   "cell_type": "code",
   "execution_count": 6,
   "metadata": {},
   "outputs": [
    {
     "name": "stdout",
     "output_type": "stream",
     "text": [
      "\n",
      "List Of Capacity:\n",
      "0    150\n",
      "1    300\n",
      "2    200\n",
      "3     50\n",
      "4    100\n",
      "Name: Capacity (MW), dtype: int64\n"
     ]
    }
   ],
   "source": [
    "print(\"\\nList Of Capacity:\")\n",
    "print(projects_df[\"Capacity (MW)\"])"
   ]
  },
  {
   "cell_type": "code",
   "execution_count": 7,
   "metadata": {},
   "outputs": [
    {
     "name": "stdout",
     "output_type": "stream",
     "text": [
      "\n",
      "Projects with capacity greater than 100MW:\n",
      "          Project  Technology  Capacity (MW)  Cost (Millon $)    Location  \\\n",
      "0    Solar Farm A       Solar            150              200  California   \n",
      "1  Wind Turbine X        Wind            300              400       Texas   \n",
      "2    Hydropower Y  Hydropower            200              350  Washington   \n",
      "\n",
      "   Completion Year  \n",
      "0             2023  \n",
      "1             2024  \n",
      "2             2022  \n"
     ]
    }
   ],
   "source": [
    "high_capacity_projects = projects_df[projects_df[\"Capacity (MW)\"] > 100]\n",
    "print(\"\\nProjects with capacity greater than 100MW:\")\n",
    "print(high_capacity_projects)"
   ]
  },
  {
   "cell_type": "code",
   "execution_count": 9,
   "metadata": {},
   "outputs": [
    {
     "name": "stdout",
     "output_type": "stream",
     "text": [
      "\n",
      "DataFrame with Cost per MW\n",
      "              Project  Technology  Capacity (MW)  Cost (Millon $)    Location  \\\n",
      "0        Solar Farm A       Solar            150              200  California   \n",
      "1      Wind Turbine X        Wind            300              400       Texas   \n",
      "2        Hydropower Y  Hydropower            200              350  Washington   \n",
      "3        Solar Roof Z       Solar             50              100      Nevada   \n",
      "4  Geothermal Plant P  Geothermal            100              250       Jdaho   \n",
      "\n",
      "   Completion Year  Cost per MW  \n",
      "0             2023     1.333333  \n",
      "1             2024     1.333333  \n",
      "2             2022     1.750000  \n",
      "3             2025     2.000000  \n",
      "4             2023     2.500000  \n"
     ]
    }
   ],
   "source": [
    "projects_df[\"Cost per MW\"] = projects_df[\"Cost (Millon $)\"] / projects_df[\"Capacity (MW)\"]\n",
    "print(\"\\nDataFrame with Cost per MW\")\n",
    "print(projects_df)"
   ]
  },
  {
   "cell_type": "code",
   "execution_count": 10,
   "metadata": {},
   "outputs": [
    {
     "name": "stdout",
     "output_type": "stream",
     "text": [
      "\n",
      "Total Capacity of all Projects: 800 MW\n",
      "Total Cost of all Projects: $1300 Million\n"
     ]
    }
   ],
   "source": [
    "total_capacity = projects_df[\"Capacity (MW)\"].sum()\n",
    "total_cost = projects_df[\"Cost (Millon $)\"].sum()\n",
    "print(f\"\\nTotal Capacity of all Projects: {total_capacity} MW\")\n",
    "print(f\"Total Cost of all Projects: ${total_cost} Million\")"
   ]
  },
  {
   "cell_type": "code",
   "execution_count": 11,
   "metadata": {},
   "outputs": [
    {
     "name": "stdout",
     "output_type": "stream",
     "text": [
      "\n",
      "Total Capacity by Technology:\n",
      "Technology\n",
      "Geothermal    100\n",
      "Hydropower    200\n",
      "Solar         200\n",
      "Wind          300\n",
      "Name: Capacity (MW), dtype: int64\n"
     ]
    }
   ],
   "source": [
    "grouped_data = projects_df.groupby(\"Technology\")[\"Capacity (MW)\"].sum()\n",
    "print(\"\\nTotal Capacity by Technology:\")\n",
    "print(grouped_data)"
   ]
  },
  {
   "cell_type": "code",
   "execution_count": null,
   "metadata": {},
   "outputs": [],
   "source": []
  }
 ],
 "metadata": {
  "kernelspec": {
   "display_name": "Python 3",
   "language": "python",
   "name": "python3"
  },
  "language_info": {
   "codemirror_mode": {
    "name": "ipython",
    "version": 3
   },
   "file_extension": ".py",
   "mimetype": "text/x-python",
   "name": "python",
   "nbconvert_exporter": "python",
   "pygments_lexer": "ipython3",
   "version": "3.7.3"
  }
 },
 "nbformat": 4,
 "nbformat_minor": 2
}
