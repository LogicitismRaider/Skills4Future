{
 "cells": [
  {
   "cell_type": "code",
   "execution_count": 2,
   "metadata": {},
   "outputs": [
    {
     "name": "stdout",
     "output_type": "stream",
     "text": [
      "City Name:City A\n"
     ]
    }
   ],
   "source": [
    "city_name = \"City A\"\n",
    "\n",
    "print(f\"City Name:{city_name}\")"
   ]
  },
  {
   "cell_type": "code",
   "execution_count": 3,
   "metadata": {},
   "outputs": [
    {
     "name": "stdout",
     "output_type": "stream",
     "text": [
      "Temperature:25C\n"
     ]
    }
   ],
   "source": [
    "\n",
    "temperature = 25\n",
    "\n",
    "print(f\"Temperature:{temperature}C\")"
   ]
  },
  {
   "cell_type": "code",
   "execution_count": 4,
   "metadata": {},
   "outputs": [
    {
     "name": "stdout",
     "output_type": "stream",
     "text": [
      "Carbon Footprint:500.75 kg CO2\n"
     ]
    }
   ],
   "source": [
    "carbon_footprint = 500.75\n",
    "\n",
    "print(f\"Carbon Footprint:{carbon_footprint} kg CO2\")"
   ]
  },
  {
   "cell_type": "markdown",
   "metadata": {},
   "source": [
    "##Python Variables"
   ]
  },
  {
   "cell_type": "code",
   "execution_count": 5,
   "metadata": {},
   "outputs": [
    {
     "name": "stdout",
     "output_type": "stream",
     "text": [
      "Is the city sustainable? False\n"
     ]
    }
   ],
   "source": [
    "is_sustainable = carbon_footprint < 400\n",
    "\n",
    "print(f\"Is the city sustainable? {is_sustainable}\")"
   ]
  },
  {
   "cell_type": "code",
   "execution_count": 6,
   "metadata": {},
   "outputs": [
    {
     "name": "stdout",
     "output_type": "stream",
     "text": [
      "Weekly Temperatures:[25, 27, 28, 26, 24, 30, 29]\n"
     ]
    }
   ],
   "source": [
    "weekly_temperature = [25,27,28,26,24,30,29]\n",
    "\n",
    "print(f\"Weekly Temperatures:{weekly_temperature}\")"
   ]
  },
  {
   "cell_type": "code",
   "execution_count": 7,
   "metadata": {},
   "outputs": [
    {
     "name": "stdout",
     "output_type": "stream",
     "text": [
      "City Data:{'Name': 'City A', 'Temperature': 25, 'Carbon_Footprint': 500.75, 'is_sustainable': False}\n"
     ]
    }
   ],
   "source": [
    "city_data = {\n",
    "    \"Name\":\"City A\",\n",
    "    \"Temperature\":25,\n",
    "    \"Carbon_Footprint\":500.75,\n",
    "    \"is_sustainable\":False\n",
    "}\n",
    "\n",
    "print(f\"City Data:{city_data}\")"
   ]
  },
  {
   "cell_type": "code",
   "execution_count": 8,
   "metadata": {},
   "outputs": [
    {
     "name": "stdout",
     "output_type": "stream",
     "text": [
      "City Name:City B, Temperature:30, Carbon Footprint:350.5 kg CO2\n"
     ]
    }
   ],
   "source": [
    "city_name, temperature, carbon_footprint = \"City B\", 30, 350.50\n",
    "\n",
    "print(f\"City Name:{city_name}, Temperature:{temperature}, Carbon Footprint:{carbon_footprint} kg CO2\")"
   ]
  },
  {
   "cell_type": "code",
   "execution_count": null,
   "metadata": {},
   "outputs": [],
   "source": []
  }
 ],
 "metadata": {
  "kernelspec": {
   "display_name": "Python 3",
   "language": "python",
   "name": "python3"
  },
  "language_info": {
   "codemirror_mode": {
    "name": "ipython",
    "version": 3
   },
   "file_extension": ".py",
   "mimetype": "text/x-python",
   "name": "python",
   "nbconvert_exporter": "python",
   "pygments_lexer": "ipython3",
   "version": "3.7.3"
  }
 },
 "nbformat": 4,
 "nbformat_minor": 2
}
